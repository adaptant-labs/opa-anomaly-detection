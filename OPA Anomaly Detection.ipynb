{
 "cells": [
  {
   "cell_type": "markdown",
   "metadata": {},
   "source": [
    "# Anomaly Detection in OPA Decision Logs\n",
    "\n",
    "[Open Policy Agent](https://www.openpolicyagent.org/) (OPA) provides a mechanism by which decision logs are periodically submitted to a remote server. This mechanism is outlined under the OPA [Decision Log Service API](https://www.openpolicyagent.org/docs/latest/management/#decision-logs). Decisions are batched, compressed, and submitted to the log receiver as a gzip-compressed JSON array, with each array element corresponding to a different decision.\n",
    "\n",
    "In terms of feature extraction and anomaly detection, these will be influenced by the format of the input payload and the decision results. A simple example carrying out access violation detection from an HTTP API with a simple true/false authorization decision is implemented below.\n",
    "\n",
    "The anomaly detection model itself is taken from the [loglizer](https://github.com/logpai/loglizer) log-analysis framework."
   ]
  },
  {
   "cell_type": "markdown",
   "metadata": {},
   "source": [
    "## Log Parsing and Structuring\n",
    "\n",
    "The first step is to parse the incoming logs and to prepare a structured CSV:"
   ]
  },
  {
   "cell_type": "code",
   "execution_count": 15,
   "metadata": {},
   "outputs": [
    {
     "data": {
      "text/html": [
       "<div>\n",
       "<style scoped>\n",
       "    .dataframe tbody tr th:only-of-type {\n",
       "        vertical-align: middle;\n",
       "    }\n",
       "\n",
       "    .dataframe tbody tr th {\n",
       "        vertical-align: top;\n",
       "    }\n",
       "\n",
       "    .dataframe thead th {\n",
       "        text-align: right;\n",
       "    }\n",
       "</style>\n",
       "<table border=\"1\" class=\"dataframe\">\n",
       "  <thead>\n",
       "    <tr style=\"text-align: right;\">\n",
       "      <th></th>\n",
       "      <th>decision_id</th>\n",
       "      <th>path</th>\n",
       "      <th>result</th>\n",
       "      <th>requested_by</th>\n",
       "      <th>timestamp</th>\n",
       "      <th>labels.app</th>\n",
       "      <th>labels.version</th>\n",
       "      <th>input.method</th>\n",
       "      <th>input.path</th>\n",
       "    </tr>\n",
       "  </thead>\n",
       "  <tbody>\n",
       "    <tr>\n",
       "      <th>0</th>\n",
       "      <td>4ca636c1-55e4-417a-b1d8-4aceb67960d1</td>\n",
       "      <td>http/example/authz/allow</td>\n",
       "      <td>true</td>\n",
       "      <td>[::1]:59943</td>\n",
       "      <td>2020-01-01T09:00:00.000000Z</td>\n",
       "      <td>my-example-app</td>\n",
       "      <td>latest</td>\n",
       "      <td>GET</td>\n",
       "      <td>/salary/bob</td>\n",
       "    </tr>\n",
       "    <tr>\n",
       "      <th>1</th>\n",
       "      <td>4ca123c1-55e4-417a-b1d8-4aceb67960d1</td>\n",
       "      <td>http/example/authz/allow</td>\n",
       "      <td>true</td>\n",
       "      <td>[::1]:59943</td>\n",
       "      <td>2020-01-01T09:01:00.000000Z</td>\n",
       "      <td>my-example-app</td>\n",
       "      <td>latest</td>\n",
       "      <td>GET</td>\n",
       "      <td>/salary/karen</td>\n",
       "    </tr>\n",
       "    <tr>\n",
       "      <th>2</th>\n",
       "      <td>6ba123c1-22e4-817c-f1d8-4aceb67960d1</td>\n",
       "      <td>http/example/authz/allow</td>\n",
       "      <td>true</td>\n",
       "      <td>[::1]:59943</td>\n",
       "      <td>2020-01-01T09:01:01.000000Z</td>\n",
       "      <td>my-example-app</td>\n",
       "      <td>latest</td>\n",
       "      <td>GET</td>\n",
       "      <td>/salary/karen</td>\n",
       "    </tr>\n",
       "    <tr>\n",
       "      <th>3</th>\n",
       "      <td>9bd456c1-55e4-417a-b1d8-4aceb67960d1</td>\n",
       "      <td>http/example/authz/allow</td>\n",
       "      <td>false</td>\n",
       "      <td>[::1]:59943</td>\n",
       "      <td>2020-01-01T09:01:02.000000Z</td>\n",
       "      <td>my-example-app</td>\n",
       "      <td>latest</td>\n",
       "      <td>GET</td>\n",
       "      <td>/salary/paul</td>\n",
       "    </tr>\n",
       "    <tr>\n",
       "      <th>4</th>\n",
       "      <td>4ca123c1-55e4-417a-b1d8-4aceb67960d1</td>\n",
       "      <td>http/example/authz/allow</td>\n",
       "      <td>true</td>\n",
       "      <td>[::1]:59943</td>\n",
       "      <td>2020-01-01T09:01:03.000000Z</td>\n",
       "      <td>my-example-app</td>\n",
       "      <td>latest</td>\n",
       "      <td>GET</td>\n",
       "      <td>/salary/bob</td>\n",
       "    </tr>\n",
       "  </tbody>\n",
       "</table>\n",
       "</div>"
      ],
      "text/plain": [
       "                            decision_id                      path result  \\\n",
       "0  4ca636c1-55e4-417a-b1d8-4aceb67960d1  http/example/authz/allow   true   \n",
       "1  4ca123c1-55e4-417a-b1d8-4aceb67960d1  http/example/authz/allow   true   \n",
       "2  6ba123c1-22e4-817c-f1d8-4aceb67960d1  http/example/authz/allow   true   \n",
       "3  9bd456c1-55e4-417a-b1d8-4aceb67960d1  http/example/authz/allow  false   \n",
       "4  4ca123c1-55e4-417a-b1d8-4aceb67960d1  http/example/authz/allow   true   \n",
       "\n",
       "  requested_by                    timestamp      labels.app labels.version  \\\n",
       "0  [::1]:59943  2020-01-01T09:00:00.000000Z  my-example-app         latest   \n",
       "1  [::1]:59943  2020-01-01T09:01:00.000000Z  my-example-app         latest   \n",
       "2  [::1]:59943  2020-01-01T09:01:01.000000Z  my-example-app         latest   \n",
       "3  [::1]:59943  2020-01-01T09:01:02.000000Z  my-example-app         latest   \n",
       "4  [::1]:59943  2020-01-01T09:01:03.000000Z  my-example-app         latest   \n",
       "\n",
       "  input.method     input.path  \n",
       "0          GET    /salary/bob  \n",
       "1          GET  /salary/karen  \n",
       "2          GET  /salary/karen  \n",
       "3          GET   /salary/paul  \n",
       "4          GET    /salary/bob  "
      ]
     },
     "execution_count": 15,
     "metadata": {},
     "output_type": "execute_result"
    }
   ],
   "source": [
    "import json\n",
    "import pandas as pd\n",
    "\n",
    "# Read the decision array as JSON\n",
    "with open('data/opa-decision-logs.json') as log_file:\n",
    "    json_data = log_file.read()\n",
    "    \n",
    "# Convert from JSON to a pandas DataFrame\n",
    "decisions = json.loads(json_data)\n",
    "df = pd.json_normalize(decisions)\n",
    "\n",
    "# Drop unnecessary columns\n",
    "df = df.drop(['labels.id', 'bundles.authz.revision'], axis=1)\n",
    "\n",
    "df.head()"
   ]
  },
  {
   "cell_type": "markdown",
   "metadata": {},
   "source": [
    "With the dataframe now structured, write the structured data to a CSV file:"
   ]
  },
  {
   "cell_type": "code",
   "execution_count": 21,
   "metadata": {},
   "outputs": [],
   "source": [
    "# Convert dataframe to CSV\n",
    "df.to_csv('opa-decision-logs-structured.csv')"
   ]
  },
  {
   "cell_type": "markdown",
   "metadata": {},
   "source": [
    "## Labelling Anomalies\n",
    "\n",
    "A separate labelling file is provided for determining which decisions are anomalies. This is now read in and the dataframe labelled accordingly:"
   ]
  },
  {
   "cell_type": "code",
   "execution_count": 18,
   "metadata": {
    "scrolled": true
   },
   "outputs": [
    {
     "data": {
      "text/html": [
       "<div>\n",
       "<style scoped>\n",
       "    .dataframe tbody tr th:only-of-type {\n",
       "        vertical-align: middle;\n",
       "    }\n",
       "\n",
       "    .dataframe tbody tr th {\n",
       "        vertical-align: top;\n",
       "    }\n",
       "\n",
       "    .dataframe thead th {\n",
       "        text-align: right;\n",
       "    }\n",
       "</style>\n",
       "<table border=\"1\" class=\"dataframe\">\n",
       "  <thead>\n",
       "    <tr style=\"text-align: right;\">\n",
       "      <th></th>\n",
       "      <th>decision_id</th>\n",
       "      <th>path</th>\n",
       "      <th>result</th>\n",
       "      <th>requested_by</th>\n",
       "      <th>timestamp</th>\n",
       "      <th>labels.app</th>\n",
       "      <th>labels.version</th>\n",
       "      <th>input.method</th>\n",
       "      <th>input.path</th>\n",
       "      <th>label</th>\n",
       "    </tr>\n",
       "  </thead>\n",
       "  <tbody>\n",
       "    <tr>\n",
       "      <th>0</th>\n",
       "      <td>4ca636c1-55e4-417a-b1d8-4aceb67960d1</td>\n",
       "      <td>http/example/authz/allow</td>\n",
       "      <td>true</td>\n",
       "      <td>[::1]:59943</td>\n",
       "      <td>2020-01-01T09:00:00.000000Z</td>\n",
       "      <td>my-example-app</td>\n",
       "      <td>latest</td>\n",
       "      <td>GET</td>\n",
       "      <td>/salary/bob</td>\n",
       "      <td>0</td>\n",
       "    </tr>\n",
       "    <tr>\n",
       "      <th>1</th>\n",
       "      <td>4ca123c1-55e4-417a-b1d8-4aceb67960d1</td>\n",
       "      <td>http/example/authz/allow</td>\n",
       "      <td>true</td>\n",
       "      <td>[::1]:59943</td>\n",
       "      <td>2020-01-01T09:01:00.000000Z</td>\n",
       "      <td>my-example-app</td>\n",
       "      <td>latest</td>\n",
       "      <td>GET</td>\n",
       "      <td>/salary/karen</td>\n",
       "      <td>0</td>\n",
       "    </tr>\n",
       "    <tr>\n",
       "      <th>2</th>\n",
       "      <td>6ba123c1-22e4-817c-f1d8-4aceb67960d1</td>\n",
       "      <td>http/example/authz/allow</td>\n",
       "      <td>true</td>\n",
       "      <td>[::1]:59943</td>\n",
       "      <td>2020-01-01T09:01:01.000000Z</td>\n",
       "      <td>my-example-app</td>\n",
       "      <td>latest</td>\n",
       "      <td>GET</td>\n",
       "      <td>/salary/karen</td>\n",
       "      <td>0</td>\n",
       "    </tr>\n",
       "    <tr>\n",
       "      <th>3</th>\n",
       "      <td>9bd456c1-55e4-417a-b1d8-4aceb67960d1</td>\n",
       "      <td>http/example/authz/allow</td>\n",
       "      <td>false</td>\n",
       "      <td>[::1]:59943</td>\n",
       "      <td>2020-01-01T09:01:02.000000Z</td>\n",
       "      <td>my-example-app</td>\n",
       "      <td>latest</td>\n",
       "      <td>GET</td>\n",
       "      <td>/salary/paul</td>\n",
       "      <td>1</td>\n",
       "    </tr>\n",
       "    <tr>\n",
       "      <th>4</th>\n",
       "      <td>4ca123c1-55e4-417a-b1d8-4aceb67960d1</td>\n",
       "      <td>http/example/authz/allow</td>\n",
       "      <td>true</td>\n",
       "      <td>[::1]:59943</td>\n",
       "      <td>2020-01-01T09:01:03.000000Z</td>\n",
       "      <td>my-example-app</td>\n",
       "      <td>latest</td>\n",
       "      <td>GET</td>\n",
       "      <td>/salary/bob</td>\n",
       "      <td>0</td>\n",
       "    </tr>\n",
       "  </tbody>\n",
       "</table>\n",
       "</div>"
      ],
      "text/plain": [
       "                            decision_id                      path result  \\\n",
       "0  4ca636c1-55e4-417a-b1d8-4aceb67960d1  http/example/authz/allow   true   \n",
       "1  4ca123c1-55e4-417a-b1d8-4aceb67960d1  http/example/authz/allow   true   \n",
       "2  6ba123c1-22e4-817c-f1d8-4aceb67960d1  http/example/authz/allow   true   \n",
       "3  9bd456c1-55e4-417a-b1d8-4aceb67960d1  http/example/authz/allow  false   \n",
       "4  4ca123c1-55e4-417a-b1d8-4aceb67960d1  http/example/authz/allow   true   \n",
       "\n",
       "  requested_by                    timestamp      labels.app labels.version  \\\n",
       "0  [::1]:59943  2020-01-01T09:00:00.000000Z  my-example-app         latest   \n",
       "1  [::1]:59943  2020-01-01T09:01:00.000000Z  my-example-app         latest   \n",
       "2  [::1]:59943  2020-01-01T09:01:01.000000Z  my-example-app         latest   \n",
       "3  [::1]:59943  2020-01-01T09:01:02.000000Z  my-example-app         latest   \n",
       "4  [::1]:59943  2020-01-01T09:01:03.000000Z  my-example-app         latest   \n",
       "\n",
       "  input.method     input.path  label  \n",
       "0          GET    /salary/bob      0  \n",
       "1          GET  /salary/karen      0  \n",
       "2          GET  /salary/karen      0  \n",
       "3          GET   /salary/paul      1  \n",
       "4          GET    /salary/bob      0  "
      ]
     },
     "execution_count": 18,
     "metadata": {},
     "output_type": "execute_result"
    }
   ],
   "source": [
    "# Read in anomalies and label the dataframe\n",
    "label_data = pd.read_csv('data/anomalies.csv', engine='c', na_filter=False, memory_map=True)\n",
    "label_data = label_data.set_index('decision_id')\n",
    "label_dict = label_data['label'].to_dict()\n",
    "df['label'] = df['decision_id'].apply(lambda x: 1 if label_dict[x] == 'Anomaly' else 0)\n",
    "\n",
    "df.head()"
   ]
  },
  {
   "cell_type": "markdown",
   "metadata": {},
   "source": [
    "## Splitting Training and Test Data\n",
    "\n",
    "A train and test split is then generated from the dataframe in preparation for fitting to the loglizer model:"
   ]
  },
  {
   "cell_type": "code",
   "execution_count": 19,
   "metadata": {},
   "outputs": [
    {
     "name": "stdout",
     "output_type": "stream",
     "text": [
      "1 2\n"
     ]
    }
   ],
   "source": [
    "from loglizer import dataloader\n",
    "\n",
    "# Split train and test data\n",
    "(x_train, y_train), (x_test, y_test) = dataloader._split_data(df['result'].values,\n",
    "                                                              df['label'].values, 0.5, 'uniform')\n",
    "\n",
    "print(y_train.sum(), y_test.sum())"
   ]
  },
  {
   "cell_type": "markdown",
   "metadata": {},
   "source": [
    "The dataset can now be summarized:"
   ]
  },
  {
   "cell_type": "code",
   "execution_count": 20,
   "metadata": {},
   "outputs": [
    {
     "name": "stdout",
     "output_type": "stream",
     "text": [
      "Total: 11 instances, 3 anomaly, 8 normal\n",
      "Train: 5 instances, 1 anomaly, 4 normal\n",
      "Test: 6 instances, 2 anomaly, 4 normal\n",
      "\n"
     ]
    }
   ],
   "source": [
    "num_train = x_train.shape[0]\n",
    "num_test = x_test.shape[0]\n",
    "num_total = num_train + num_test\n",
    "num_train_pos = sum(y_train)\n",
    "num_test_pos = sum(y_test)\n",
    "num_pos = num_train_pos + num_test_pos\n",
    "\n",
    "print('Total: {} instances, {} anomaly, {} normal' \\\n",
    "      .format(num_total, num_pos, num_total - num_pos))\n",
    "print('Train: {} instances, {} anomaly, {} normal' \\\n",
    "      .format(num_train, num_train_pos, num_train - num_train_pos))\n",
    "print('Test: {} instances, {} anomaly, {} normal\\n' \\\n",
    "      .format(num_test, num_test_pos, num_test - num_test_pos))"
   ]
  },
  {
   "cell_type": "markdown",
   "metadata": {},
   "source": [
    "## SVM Model Training and Validation\n",
    "\n",
    "With the data split, we can now proceed with fitting the training data to the loglizer SVM model and validating against the test split:"
   ]
  },
  {
   "cell_type": "code",
   "execution_count": 22,
   "metadata": {},
   "outputs": [
    {
     "name": "stdout",
     "output_type": "stream",
     "text": [
      "====== Transformed train data summary ======\n",
      "Train data shape: 5-by-8\n",
      "\n",
      "====== Transformed test data summary ======\n",
      "Test data shape: 6-by-8\n",
      "\n",
      "====== Model summary ======\n",
      "Train validation:\n",
      "====== Evaluation summary ======\n",
      "Precision: 1.000, recall: 1.000, F1-measure: 1.000\n",
      "\n",
      "Test validation:\n",
      "====== Evaluation summary ======\n",
      "Precision: 1.000, recall: 1.000, F1-measure: 1.000\n",
      "\n"
     ]
    },
    {
     "data": {
      "text/plain": [
       "(1.0, 1.0, 1.0)"
      ]
     },
     "execution_count": 22,
     "metadata": {},
     "output_type": "execute_result"
    }
   ],
   "source": [
    "from loglizer import preprocessing\n",
    "from loglizer.models import SVM\n",
    "\n",
    "feature_extractor = preprocessing.FeatureExtractor()\n",
    "x_train = feature_extractor.fit_transform(x_train, term_weighting='tf-idf')\n",
    "x_test = feature_extractor.transform(x_test)\n",
    "\n",
    "model = SVM()\n",
    "model.fit(x_train, y_train)\n",
    "\n",
    "print('Train validation:')\n",
    "model.evaluate(x_train, y_train)\n",
    "\n",
    "print('Test validation:')\n",
    "model.evaluate(x_test, y_test)"
   ]
  },
  {
   "cell_type": "markdown",
   "metadata": {},
   "source": [
    "## References\n",
    "\n",
    "+ Shilin He, Jieming Zhu, Pinjia He, Michael R. Lyu. [Experience Report: System Log Analysis for Anomaly Detection](https://jiemingzhu.github.io/pub/slhe_issre2016.pdf), *IEEE International Symposium on Software Reliability Engineering (ISSRE)*, 2016. [[Bibtex](https://dblp.org/rec/bibtex/conf/issre/HeZHL16)][[中文版本](https://github.com/AmateurEvents/article/issues/2)]"
   ]
  }
 ],
 "metadata": {
  "kernelspec": {
   "display_name": "Python 3",
   "language": "python",
   "name": "python3"
  },
  "language_info": {
   "codemirror_mode": {
    "name": "ipython",
    "version": 3
   },
   "file_extension": ".py",
   "mimetype": "text/x-python",
   "name": "python",
   "nbconvert_exporter": "python",
   "pygments_lexer": "ipython3",
   "version": "3.8.2"
  }
 },
 "nbformat": 4,
 "nbformat_minor": 4
}
